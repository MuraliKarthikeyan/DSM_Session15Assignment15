{
 "cells": [
  {
   "cell_type": "markdown",
   "metadata": {},
   "source": [
    "# Data Science Masters :Assignment 15"
   ]
  },
  {
   "cell_type": "raw",
   "metadata": {},
   "source": [
    "Problem Statement 1:\n",
    "You survey households in your area to find the average rent they are paying. Find the standard deviation from the following data: $1550, $1700, $900, $850, $1000, $950."
   ]
  },
  {
   "cell_type": "code",
   "execution_count": 26,
   "metadata": {},
   "outputs": [
    {
     "name": "stdout",
     "output_type": "stream",
     "text": [
      "Average Rent = 1158.3333333333333\n",
      "Standard deviation = 335.92740617910624\n",
      "----------------------------------------------\n",
      "Using Numbpy std. functions to cross check....\n",
      "mean= 1158.3333333333333\n",
      "standard deviation= 335.92740617910624\n"
     ]
    }
   ],
   "source": [
    "# Solution\n",
    "import math\n",
    "import numpy as np\n",
    "dataList = np.array([1550,1700,900,850,1000,950]) \n",
    "# Computing Avg rent paid\n",
    "cumsum = 0\n",
    "for num in dataList:\n",
    "    cumsum = cumsum + num\n",
    "    avgRent = cumsum / len(dataList)\n",
    "print(\"Average Rent =\",avgRent)\n",
    "# Computing Standard Deviation\n",
    "intersum = 0\n",
    "for num in dataList: \n",
    "    intersum = math.pow((num - avgRent),2) + intersum\n",
    "variance = intersum / len(dataList)\n",
    "std = math.pow(variance,0.5)\n",
    "print(\"Standard deviation =\",std)\n",
    "print(\"----------------------------------------------\")\n",
    "# Using Numbpy std. functions to cross check..\n",
    "print(\"Using Numbpy std. functions to cross check....\")\n",
    "print(\"mean=\",np.mean(dataList))\n",
    "print(\"standard deviation=\",np.std(dataList))"
   ]
  },
  {
   "cell_type": "raw",
   "metadata": {},
   "source": [
    "Problem Statement 2:\n",
    "Find the variance for the following set of data representing trees in California (heights in feet):\n",
    "3, 21, 98, 203, 17, 9"
   ]
  },
  {
   "cell_type": "code",
   "execution_count": 27,
   "metadata": {},
   "outputs": [
    {
     "name": "stdout",
     "output_type": "stream",
     "text": [
      "variance = 5183.25\n",
      "Using Numbpy std. functions to cross check....\n",
      "5183.25\n"
     ]
    }
   ],
   "source": [
    "# Solution\n",
    "inputData = np.array([3, 21, 98, 203, 17, 9])\n",
    "intersum = 0\n",
    "cumsum = 0\n",
    "for num in inputData:\n",
    "    cumsum = cumsum + num\n",
    "    avgHeight = cumsum / len(inputData)\n",
    "for num in inputData: \n",
    "    intersum = math.pow((num - avgHeight),2) + intersum\n",
    "variance = intersum / len(inputData)\n",
    "print(\"variance =\",variance)\n",
    "print(\"Using Numbpy std. functions to cross check....\")\n",
    "print(np.var(inputData))"
   ]
  },
  {
   "cell_type": "raw",
   "metadata": {},
   "source": [
    "Problem Statement 3:\n",
    "In a class on 100 students, 80 students passed in all subjects, 10 failed in one subject, 7 failed in two subjects and 3 failed in three subjects. Find the probability distribution of the variable for number of subjects a student from the given class has failed in."
   ]
  },
  {
   "cell_type": "code",
   "execution_count": 90,
   "metadata": {},
   "outputs": [
    {
     "name": "stdout",
     "output_type": "stream",
     "text": [
      "Probablity of Students failed in Zero Subject = 0.8\n",
      "Probablity of Students failed in One Subject = 0.1\n",
      "Probablity of Students failed in Two Subjects = 0.07\n",
      "Probablity of Students failed in Three Subjects = 0.03\n"
     ]
    },
    {
     "data": {
      "image/png": "[encoded data removed]",
      "text/plain": [
       "<Figure size 432x288 with 1 Axes>"
      ]
     },
     "metadata": {},
     "output_type": "display_data"
    }
   ],
   "source": [
    "# Solution\n",
    "totalStudents = 100\n",
    "pass_allSub = 80\n",
    "fail_oneSub = 10\n",
    "fail_twoSub = 7\n",
    "fail_threeSub = 3\n",
    "probFail_zeroSub = pass_allSub / totalStudents\n",
    "probFail_oneSub = fail_oneSub / totalStudents\n",
    "probFail_twoSub = fail_twoSub / totalStudents\n",
    "probFail_threeSub = fail_threeSub / totalStudents\n",
    "print(\"Probablity of Students failed in Zero Subject =\",probFail_zeroSub)\n",
    "print(\"Probablity of Students failed in One Subject =\",probFail_oneSub)\n",
    "print(\"Probablity of Students failed in Two Subjects =\",probFail_twoSub)\n",
    "print(\"Probablity of Students failed in Three Subjects =\",probFail_threeSub)\n",
    "import matplotlib.pyplot as plt\n",
    "objects = ('P(zeroFail)', 'P(oneFail)', 'P(twoFail)', 'P(threeFail)')\n",
    "y_pos = np.arange(len(objects))\n",
    "y=[probFail_zeroSub,probFail_oneSub,probFail_twoSub,probFail_threeSub]\n",
    "plt.bar(y_pos, y, align='center')\n",
    "plt.xticks(y_pos, objects)\n",
    "plt.ylabel('Probability Values')\n",
    "plt.title('Probability Distribution')\n",
    "plt.show()"
   ]
  }
 ],
 "metadata": {
  "kernelspec": {
   "display_name": "Python 3",
   "language": "python",
   "name": "python3"
  },
  "language_info": {
   "codemirror_mode": {
    "name": "ipython",
    "version": 3
   },
   "file_extension": ".py",
   "mimetype": "text/x-python",
   "name": "python",
   "nbconvert_exporter": "python",
   "pygments_lexer": "ipython3",
   "version": "3.6.5"
  }
 },
 "nbformat": 4,
 "nbformat_minor": 2
}
